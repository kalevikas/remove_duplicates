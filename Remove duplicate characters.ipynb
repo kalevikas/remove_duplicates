{
 "cells": [
  {
   "cell_type": "markdown",
   "id": "727b7be5",
   "metadata": {},
   "source": [
    "## For a given string, remove all duplicate characters from that string.\n",
    "- Create a result string. Then loop through the string and check whether the current character not in the string. If it is not, then add it. Otherwise, it’s already there adding it will make it duplicate."
   ]
  },
  {
   "cell_type": "code",
   "execution_count": 11,
   "id": "da0856fe",
   "metadata": {},
   "outputs": [
    {
     "name": "stdout",
     "output_type": "stream",
     "text": [
      "vikas le\n"
     ]
    }
   ],
   "source": [
    "def remove_duplicates(n):  # define function and give one argument to it.\n",
    "    result=''              # define empty variable for str.\n",
    "    \n",
    "    for i in n:            # n=vikas kale ; i =v,i,k,a,s,k,a,l,e\n",
    "        if i not in result:  # check values inside the result\n",
    "            result=result+i   # if i values not in result then add it and if already present in result then return result.\n",
    "    return result             # return result whenever function called.\n",
    "\n",
    "my_str='vikas kale'            \n",
    "out=remove_duplicates(my_str)\n",
    "print(out)\n",
    "    \n",
    "    "
   ]
  },
  {
   "cell_type": "code",
   "execution_count": 12,
   "id": "147c502a",
   "metadata": {},
   "outputs": [
    {
     "data": {
      "text/plain": [
       "'vikas le'"
      ]
     },
     "execution_count": 12,
     "metadata": {},
     "output_type": "execute_result"
    }
   ],
   "source": [
    "remove_duplicates('vikas kale')"
   ]
  },
  {
   "cell_type": "code",
   "execution_count": 13,
   "id": "96f76041",
   "metadata": {},
   "outputs": [
    {
     "name": "stdout",
     "output_type": "stream",
     "text": [
      "Enter your string: banana\n"
     ]
    },
    {
     "data": {
      "text/plain": [
       "'ban'"
      ]
     },
     "execution_count": 13,
     "metadata": {},
     "output_type": "execute_result"
    }
   ],
   "source": [
    "def remove(name):\n",
    "    new_str=''\n",
    "    \n",
    "    for char in name:\n",
    "        if char not in new_str:\n",
    "            new_str+=char\n",
    "    return new_str\n",
    "\n",
    "name=input(\"Enter your string: \")\n",
    "remove(name)"
   ]
  },
  {
   "cell_type": "code",
   "execution_count": 15,
   "id": "d5103943",
   "metadata": {},
   "outputs": [
    {
     "data": {
      "text/plain": [
       "'aple'"
      ]
     },
     "execution_count": 15,
     "metadata": {},
     "output_type": "execute_result"
    }
   ],
   "source": [
    "remove('apple')"
   ]
  },
  {
   "cell_type": "code",
   "execution_count": 16,
   "id": "d02da5d7",
   "metadata": {},
   "outputs": [],
   "source": [
    "x=map(remove,'pineapple')"
   ]
  },
  {
   "cell_type": "code",
   "execution_count": 17,
   "id": "42fc7e2b",
   "metadata": {},
   "outputs": [
    {
     "data": {
      "text/plain": [
       "<map at 0x12878615c70>"
      ]
     },
     "execution_count": 17,
     "metadata": {},
     "output_type": "execute_result"
    }
   ],
   "source": [
    "x"
   ]
  },
  {
   "cell_type": "code",
   "execution_count": 18,
   "id": "86c8bb7d",
   "metadata": {},
   "outputs": [
    {
     "data": {
      "text/plain": [
       "['p', 'i', 'n', 'e', 'a', 'p', 'p', 'l', 'e']"
      ]
     },
     "execution_count": 18,
     "metadata": {},
     "output_type": "execute_result"
    }
   ],
   "source": [
    "list(x)"
   ]
  },
  {
   "cell_type": "code",
   "execution_count": 20,
   "id": "2edf5113",
   "metadata": {},
   "outputs": [],
   "source": [
    "x=list(map(remove,'pineapple'))"
   ]
  },
  {
   "cell_type": "code",
   "execution_count": 21,
   "id": "f004fd82",
   "metadata": {},
   "outputs": [
    {
     "data": {
      "text/plain": [
       "['p', 'i', 'n', 'e', 'a', 'p', 'p', 'l', 'e']"
      ]
     },
     "execution_count": 21,
     "metadata": {},
     "output_type": "execute_result"
    }
   ],
   "source": [
    "x"
   ]
  },
  {
   "cell_type": "code",
   "execution_count": 26,
   "id": "1a72803d",
   "metadata": {},
   "outputs": [],
   "source": [
    "y=tuple(filter(remove,'vivek'))"
   ]
  },
  {
   "cell_type": "code",
   "execution_count": 27,
   "id": "b410c1b2",
   "metadata": {
    "scrolled": true
   },
   "outputs": [
    {
     "data": {
      "text/plain": [
       "('v', 'i', 'v', 'e', 'k')"
      ]
     },
     "execution_count": 27,
     "metadata": {},
     "output_type": "execute_result"
    }
   ],
   "source": [
    "y"
   ]
  },
  {
   "cell_type": "code",
   "execution_count": null,
   "id": "249be873",
   "metadata": {},
   "outputs": [],
   "source": []
  },
  {
   "cell_type": "code",
   "execution_count": 30,
   "id": "bb653770",
   "metadata": {},
   "outputs": [],
   "source": [
    "x=map(remove,'apple')"
   ]
  },
  {
   "cell_type": "code",
   "execution_count": 31,
   "id": "ff7d1321",
   "metadata": {},
   "outputs": [
    {
     "data": {
      "text/plain": [
       "<map at 0x12878615190>"
      ]
     },
     "execution_count": 31,
     "metadata": {},
     "output_type": "execute_result"
    }
   ],
   "source": [
    "x"
   ]
  },
  {
   "cell_type": "code",
   "execution_count": 32,
   "id": "5a16c85d",
   "metadata": {},
   "outputs": [
    {
     "data": {
      "text/plain": [
       "('a', 'p', 'p', 'l', 'e')"
      ]
     },
     "execution_count": 32,
     "metadata": {},
     "output_type": "execute_result"
    }
   ],
   "source": [
    "tuple(x)"
   ]
  },
  {
   "cell_type": "code",
   "execution_count": 33,
   "id": "dc2c0c60",
   "metadata": {},
   "outputs": [
    {
     "data": {
      "text/plain": [
       "'pineal'"
      ]
     },
     "execution_count": 33,
     "metadata": {},
     "output_type": "execute_result"
    }
   ],
   "source": [
    "remove('pineapple')"
   ]
  },
  {
   "cell_type": "markdown",
   "id": "bd718d36",
   "metadata": {},
   "source": [
    "### Without define function."
   ]
  },
  {
   "cell_type": "code",
   "execution_count": 34,
   "id": "f2ebcbfc",
   "metadata": {},
   "outputs": [
    {
     "name": "stdout",
     "output_type": "stream",
     "text": [
      "Enter your string: pineapple\n",
      "pineal\n"
     ]
    }
   ],
   "source": [
    "str_chk=input(\"Enter your string: \")\n",
    "re=\"\"\n",
    "\n",
    "for i in str_chk:\n",
    "    if i not in re:\n",
    "        re+=i\n",
    "print(re)\n"
   ]
  },
  {
   "cell_type": "code",
   "execution_count": 36,
   "id": "c55e6fea",
   "metadata": {},
   "outputs": [
    {
     "name": "stdout",
     "output_type": "stream",
     "text": [
      "Enter your string: laptop\n",
      "lapto\n"
     ]
    }
   ],
   "source": [
    "str_chk=input(\"Enter your string: \")\n",
    "re=\"\"\n",
    "\n",
    "for i in str_chk:\n",
    "    if i not in re:\n",
    "        re+=i\n",
    "print(re)\n"
   ]
  },
  {
   "cell_type": "code",
   "execution_count": null,
   "id": "71265be6",
   "metadata": {},
   "outputs": [],
   "source": []
  }
 ],
 "metadata": {
  "kernelspec": {
   "display_name": "Python 3",
   "language": "python",
   "name": "python3"
  },
  "language_info": {
   "codemirror_mode": {
    "name": "ipython",
    "version": 3
   },
   "file_extension": ".py",
   "mimetype": "text/x-python",
   "name": "python",
   "nbconvert_exporter": "python",
   "pygments_lexer": "ipython3",
   "version": "3.8.8"
  }
 },
 "nbformat": 4,
 "nbformat_minor": 5
}
